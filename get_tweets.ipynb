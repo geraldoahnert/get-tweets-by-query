{
 "cells": [
  {
   "cell_type": "code",
   "execution_count": 13,
   "metadata": {},
   "outputs": [
    {
     "name": "stdout",
     "output_type": "stream",
     "text": [
      "Defaulting to user installation because normal site-packages is not writeable\n",
      "Requirement already satisfied: openpyxl in /home/ahnert/.local/lib/python3.8/site-packages (3.0.10)\n",
      "Requirement already satisfied: pandas in /home/ahnert/.local/lib/python3.8/site-packages (1.3.5)\n",
      "Requirement already satisfied: et-xmlfile in /home/ahnert/.local/lib/python3.8/site-packages (from openpyxl) (1.1.0)\n",
      "Requirement already satisfied: pytz>=2017.3 in /home/ahnert/.local/lib/python3.8/site-packages (from pandas) (2021.3)\n",
      "Requirement already satisfied: numpy>=1.17.3 in /home/ahnert/.local/lib/python3.8/site-packages (from pandas) (1.21.3)\n",
      "Requirement already satisfied: python-dateutil>=2.7.3 in /home/ahnert/.local/lib/python3.8/site-packages (from pandas) (2.8.2)\n",
      "Requirement already satisfied: six>=1.5 in /usr/lib/python3/dist-packages (from python-dateutil>=2.7.3->pandas) (1.14.0)\n",
      "\u001b[33mWARNING: You are using pip version 22.0.3; however, version 22.2.2 is available.\n",
      "You should consider upgrading via the '/bin/python -m pip install --upgrade pip' command.\u001b[0m\u001b[33m\n",
      "\u001b[0mNote: you may need to restart the kernel to use updated packages.\n"
     ]
    }
   ],
   "source": [
    "%pip install openpyxl pandas"
   ]
  },
  {
   "cell_type": "code",
   "execution_count": 14,
   "metadata": {},
   "outputs": [],
   "source": [
    "import requests\n",
    "import json\n",
    "import openpyxl\n",
    "import pandas as pd"
   ]
  },
  {
   "cell_type": "code",
   "execution_count": 15,
   "metadata": {},
   "outputs": [],
   "source": [
    "# Token API Twitter - Bearer Token\n",
    "BEARER_TOKEN = \"\"\n",
    "query = \"\"  # Your Query"
   ]
  },
  {
   "cell_type": "code",
   "execution_count": 16,
   "metadata": {},
   "outputs": [],
   "source": [
    "headers = {\"Authorization\": \"Bearer {}\".format(BEARER_TOKEN)}\n",
    "tweet_fields = \"tweet.fields=text,author_id,created_at,id\"\n",
    "\n",
    "url_tweets = \"https://api.twitter.com/2/tweets/search/recent?query={}&{}&max_results=100\".format(\n",
    "    query, tweet_fields\n",
    ")\n",
    "response_tweets = requests.request(\"GET\", url_tweets, headers=headers)\n",
    "\n",
    "if response_tweets.status_code != 200:\n",
    "    raise Exception(response_tweets.status_code, response_tweets.text)"
   ]
  },
  {
   "cell_type": "code",
   "execution_count": 17,
   "metadata": {},
   "outputs": [],
   "source": [
    "response_tweets = response_tweets.json()\n",
    "len_json = len(response_tweets[\"data\"])\n",
    "\n",
    "author_id = []\n",
    "created_at = []\n",
    "text = []\n",
    "for i in range(len_json):\n",
    "    text.append(response_tweets[\"data\"][i][\"text\"])\n",
    "    author_id.append(response_tweets[\"data\"][i][\"author_id\"])\n",
    "    created_at.append(response_tweets[\"data\"][i][\"created_at\"])"
   ]
  },
  {
   "cell_type": "code",
   "execution_count": 18,
   "metadata": {},
   "outputs": [],
   "source": [
    "author_id_comma_separeted = \",\".join(author_id)"
   ]
  },
  {
   "cell_type": "code",
   "execution_count": 19,
   "metadata": {},
   "outputs": [],
   "source": [
    "headers = {\"Authorization\": \"Bearer {}\".format(BEARER_TOKEN)}\n",
    "user_fields = \"user.fields=description,name,url,username\"\n",
    "\n",
    "url_users = \"https://api.twitter.com/2/users?ids={}&{}\".format(\n",
    "    author_id_comma_separeted, user_fields\n",
    ")\n",
    "response_users = requests.request(\"GET\", url_users, headers=headers)\n",
    "\n",
    "if response_users.status_code != 200:\n",
    "    raise Exception(response_users.status_code, response_users.text)"
   ]
  },
  {
   "cell_type": "code",
   "execution_count": 20,
   "metadata": {},
   "outputs": [],
   "source": [
    "comma_separeted = \",\".join(author_id)\n",
    "response_users = response_users.json()\n",
    "\n",
    "username = []\n",
    "name = []\n",
    "url = []\n",
    "description = []\n",
    "for i in range(len_json):\n",
    "    username.append(response_users[\"data\"][i][\"username\"])\n",
    "    name.append(response_users[\"data\"][i][\"name\"])\n",
    "    url.append(response_users[\"data\"][i][\"url\"])\n",
    "    description.append(response_users[\"data\"][i][\"description\"])"
   ]
  },
  {
   "cell_type": "code",
   "execution_count": 21,
   "metadata": {},
   "outputs": [],
   "source": [
    "df = pd.DataFrame({\"Autor\": [], \"@\": [], \"Tweet\": [],\n",
    "                  \"Url\": [], \"Description\": [], \"Created at\": []})\n",
    "\n",
    "df[\"Autor\"] = name\n",
    "df[\"@\"] = username\n",
    "df[\"Url\"] = url\n",
    "df[\"Description\"] = description\n",
    "df[\"Tweet\"] = text\n",
    "df[\"Created at\"] = created_at\n",
    "\n",
    "df.to_excel(\"output.xlsx\")"
   ]
  }
 ],
 "metadata": {
  "kernelspec": {
   "display_name": "Python 3.8.10 64-bit",
   "language": "python",
   "name": "python3"
  },
  "language_info": {
   "codemirror_mode": {
    "name": "ipython",
    "version": 3
   },
   "file_extension": ".py",
   "mimetype": "text/x-python",
   "name": "python",
   "nbconvert_exporter": "python",
   "pygments_lexer": "ipython3",
   "version": "3.8.10"
  },
  "orig_nbformat": 4,
  "vscode": {
   "interpreter": {
    "hash": "e7370f93d1d0cde622a1f8e1c04877d8463912d04d973331ad4851f04de6915a"
   }
  }
 },
 "nbformat": 4,
 "nbformat_minor": 2
}
